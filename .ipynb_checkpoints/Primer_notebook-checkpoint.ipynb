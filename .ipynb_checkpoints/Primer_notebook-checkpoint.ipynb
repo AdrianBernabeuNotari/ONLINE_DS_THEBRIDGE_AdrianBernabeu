{
 "cells": [
  {
   "cell_type": "code",
   "execution_count": 2,
   "id": "394b6672-7b7b-483f-b2e8-52f93dbc2e3f",
   "metadata": {},
   "outputs": [
    {
     "name": "stdout",
     "output_type": "stream",
     "text": [
      "Hola Mundo\n"
     ]
    }
   ],
   "source": [
    "print(\"Hola Mundo\")"
   ]
  },
  {
   "cell_type": "markdown",
   "id": "09f4e3ab-2cf4-4ae8-b0a7-344c6e74fa2d",
   "metadata": {},
   "source": [
    "Hola Mundo"
   ]
  },
  {
   "cell_type": "code",
   "execution_count": null,
   "id": "7449f1aa-41c0-43aa-9b67-b18eac582aef",
   "metadata": {},
   "outputs": [],
   "source": []
  }
 ],
 "metadata": {
  "kernelspec": {
   "display_name": "Python 3 (ipykernel)",
   "language": "python",
   "name": "python3"
  },
  "language_info": {
   "codemirror_mode": {
    "name": "ipython",
    "version": 3
   },
   "file_extension": ".py",
   "mimetype": "text/x-python",
   "name": "python",
   "nbconvert_exporter": "python",
   "pygments_lexer": "ipython3",
   "version": "3.10.11"
  }
 },
 "nbformat": 4,
 "nbformat_minor": 5
}
